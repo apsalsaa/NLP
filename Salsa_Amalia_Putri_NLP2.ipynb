{
  "nbformat": 4,
  "nbformat_minor": 0,
  "metadata": {
    "colab": {
      "name": "Salsa Amalia Putri_NLP2",
      "provenance": []
    },
    "kernelspec": {
      "name": "python3",
      "display_name": "Python 3"
    },
    "language_info": {
      "name": "python"
    }
  },
  "cells": [
    {
      "cell_type": "code",
      "source": [
        "import nltk\n",
        "import random\n",
        "import string\n",
        "import warnings\n",
        "warnings.filterwarnings('ignore')\n",
        "nltk.download('punkt')"
      ],
      "metadata": {
        "colab": {
          "base_uri": "https://localhost:8080/"
        },
        "id": "vJExmAIktd4A",
        "outputId": "37efe1cf-84ca-4191-d7e0-3dcae84b7010"
      },
      "execution_count": null,
      "outputs": [
        {
          "output_type": "stream",
          "name": "stdout",
          "text": [
            "[nltk_data] Downloading package punkt to /root/nltk_data...\n",
            "[nltk_data]   Unzipping tokenizers/punkt.zip.\n"
          ]
        },
        {
          "output_type": "execute_result",
          "data": {
            "text/plain": [
              "True"
            ]
          },
          "metadata": {},
          "execution_count": 5
        }
      ]
    },
    {
      "cell_type": "code",
      "source": [
        "from google.colab import drive\n",
        "drive.mount('/content/drive')\n",
        "%cd /content/drive/MyDrive"
      ],
      "metadata": {
        "colab": {
          "base_uri": "https://localhost:8080/"
        },
        "id": "1TYW08bMvwl_",
        "outputId": "25e4ab9a-b510-4e56-dd91-dab0b6f69e72"
      },
      "execution_count": null,
      "outputs": [
        {
          "output_type": "stream",
          "name": "stdout",
          "text": [
            "Drive already mounted at /content/drive; to attempt to forcibly remount, call drive.mount(\"/content/drive\", force_remount=True).\n",
            "/content/drive/MyDrive\n"
          ]
        }
      ]
    },
    {
      "cell_type": "code",
      "source": [
        "f = open('mental health.txt','r',errors='ignore')\n",
        "f"
      ],
      "metadata": {
        "colab": {
          "base_uri": "https://localhost:8080/"
        },
        "id": "tjH1_MOE3-uA",
        "outputId": "d974620f-066f-470b-c5a4-abaa91784139"
      },
      "execution_count": null,
      "outputs": [
        {
          "output_type": "execute_result",
          "data": {
            "text/plain": [
              "<_io.TextIOWrapper name='mental health.txt' mode='r' encoding='UTF-8'>"
            ]
          },
          "metadata": {},
          "execution_count": 43
        }
      ]
    },
    {
      "cell_type": "code",
      "source": [
        "raw = f.read()\n",
        "raw = raw.lower()\n",
        "raw"
      ],
      "metadata": {
        "colab": {
          "base_uri": "https://localhost:8080/",
          "height": 123
        },
        "id": "7w5Jy1o442fw",
        "outputId": "67f56a38-d1c2-44f9-d767-7b7e928e1902"
      },
      "execution_count": null,
      "outputs": [
        {
          "output_type": "execute_result",
          "data": {
            "text/plain": [
              "\"being aware of your overall health is important so that you can detect any symptoms and seek professional help when necessary. while everyone is familiar familiar with the symptoms and treatment options for common illnesses that affect their loved ones, like the flu, migraines, or and (most recently) covid-19, many people are unsure how to look after their mental health.\\nraising mental health awareness can help you to understand your symptoms, find professional treatment, and, perhaps most importantly, break the mental health stigma that leaves so many people suffering in secret.\\ncontents\\nwhich conditions need mental health awareness?\\n\\nmental health awareness is something that can help the millions of people who are impacted by mental health issues throughout the united states. according to the national alliance on mental illness (nami), one in five adults have had or currently have symptoms of a mental illness. these statistics show just how prevalent living with a mental illness actually is. \\nthis is also why nami recognizes mental health awareness month in may. the goal with a whole month of mental health awareness is to help people with mental illnesses understand that they are not alone in their struggles—and that getting treatment can make all the difference. if we applied this approach to mental health every day of the year, more and more people could benefit from knowing about these common illnesses.\\nsome common disorders that need more awareness include:\\n•\\tgeneralized anxiety disorder\\n•\\tsubstance use disorders\\n•\\tdepression\\n•\\tbipolar disorder\\n•\\tpost-traumatic stress disorder\\n•\\tschizophrenia\\n•\\tsuicidal ideation\\nthough all of these mental health conditions have different symptoms, they can impact every aspect of your life. in truth, your mental health influences the way that you think, feel, and behave. this means that your social, professional, and personal life can be greatly impaired. \\nmany people who have mental health conditions aren’t sure how to cope with their symptoms and resort to unhealthy coping mechanisms to push away their emotional discomfort. as a result, you might also have an addiction to drugs or alcohol. additionally, if you have one mental illness that goes untreated, you actually are at a greater risk for developing co-occurring disorders and you will need dual diagnosis treatment to fully heal.\\nmental health awareness makes all of this information available to you so that you can assess your own risks and find help for any conditions you might have.\\nhow can mental health awareness help?\\nmental health awareness doesn’t just help you. knowing more about mental health disorders can also help your family members, friends, and coworkers. three of the main reasons why mental health awareness is so important are outlined below:\\n1. understand your symptoms\\na lot of people who have mental health symptoms don’t actually realize that their struggles are a result of untreated disorders. therefore, mental health awareness is helpful in getting you to understand your symptoms.\\nwhile all mental health conditions have different symptoms, some signs to look out for include:\\n•\\tchanges in sleeping patterns\\n•\\tloss of appetite\\n•\\timpulsive decision making\\n•\\tturning to drugs or alcohol in moments of distress\\n•\\tsuicidal thoughts\\nif you haven’t been feeling like yourself lately, you might have a mental health issue that requires immediate treatment. after all, the symptoms of mental health disorders can be incredibly dangerous for both your emotional and physical health.\\n2. more behavioral health resources\\nanother significant benefit to mental health awareness is that the more people know about the need for mental health treatment, the more mental health resources will become available. without mental health resources, people would not be able to recover.\\nthe most important mental health resources are:\\n•\\tmental health hospitals\\n•\\tbehavioral health programs\\n•\\t12-step programs\\n•\\tmedical detox from drugs and alcohol\\n•\\tinpatient mental health treatment.\\nin mental health hospitals you will have all of the resources you need to recover from mental health conditions, heal from co-occurring disorders, and learn strategies to maintain your health after your time in treatment. and mental health resources like crisis service care can keep you safe so that you have the ability to go through treatment.\\n3. break the mental health stigma\\nmost importantly, mental health awareness can break the stigma of needing mental health care. having mental health disorders doesn’t mean that you are “crazy.” in actuality, mental health impacts millions of people across the country. with more awareness and the right mental health care, you will realize that you are not alone. having mental health support gets you one step closer to mental health recovery.\\n\\ndid you know that 1 in 4 american people suffer a mental illness?  that is an estimate of 56% of the population[2].  creating awareness is a difficult task [5].  we make sure to fill one day or month with the “green ribbon.”  but do we really know what the green ribbon means? when there is awareness about mental health it eases identification and early treatment for these individuals [4].  these individuals could be our father, mother, son, daughter, neighbor, friend, or it could be ourselves.  early intervention can help our loved one receive appropriate care.  as a result, recovery is faster [4].\\nif a loved one is experiencing some issues and you know for fact they need to see a professional, do you know how to access the service?  we found that out of 176 people, 50% did no access mental health services because they were unaware of how to [2].  lack of access can be due to misinformation about where to go [2]. mental illness cannot be treated by simple desire, treatment is necessary [4].  we found that in many cases people may not access these services because it is difficult due to cultural or language barriers [2].\\nawareness also eliminates stigma for these people.  if we are aware of their limitations and strengths, stigma may disappear.  let’s just say, your daughter was just diagnosed bipolar disorder.  would you like those around you comment, “she is crazy, lock her up.” stigma refers to the opinions and thoughts of the community [3]. stigma shames the mentally ill.  creates a community where minds are closed off and rejects acceptance of those who are “different.” attitudes and behaviors move a community into either a positive or negative trend.  if there is a negative trend than the implications may cause a combination of denial and hatred [3].\\nawareness can also create new improvements for the mentally ill. as there is more demand from the public, it can produce a flow of attention.  this attention can eventually result in great changes for the mentally ill.  it can lead to improvements on policy, research, and service development [6].  let’s make this issue a priority because we have a high demand.  if we raise more awareness, the demands may increase and can result in more funding for our needs.\\nin addition, there is a great misconception for the mentally ill. many think these people are lazy or just making it up.  there is also the attitude that these people are either crazy, possessed by demons, violent, out of control and unsafe.  these are negative labels that have been attached due to the lack of awareness.  raising awareness can reduce misconceptions.  imagine your daughter with bipolar disorder being described by these words.  how would this make you feel?  why continue to live in a community where there is judgment, if we could promote awareness on the issue.\\nmental health awareness should not only be for a day or two or even a month.  we must be informed about it because it can easily happen to someone close to us.  community awareness for mental health reduces stigma. mental health awareness increases the chances for early intervention, which can result in a fast recovery.  awareness reduces negative adjectives that have been set to describe our people with a metal illness.\\nby raising awareness, mental health can now be seen as an illness.  these illnesses can be managed by treatment.  we should not isolate mental illness from the physical heath conditions, such as diabetes, blood pressure, or cancer [1].\\nawareness is a form of education.  the more you know, the more power you have.  knowledge is power.  this power can cause a positive effect in our community.  awareness is key for understanding what mental health is and how families can receive the help they need. public knowledge is important in accessing community resources.  lack of awareness of mental health is not just “their” problem, it is our problem as a community.\\nawareness does not just end here. attend health fairs, resource fairs, read more, listen to it.  you could even get more information about the resources and services offered in imperial valley.  and overall pass it on.  talk to a someone about this article and ask them to share it with someone else.  let’s start a domino effect for awareness on mental health. don’t be scared to talk about it. it’s hard work, but the power to reach and teach the community is well worth it [5].\\nmental illnesses affect 19% of the adult population, 46% of teenagers and 13% of children each year. people struggling with their mental health may be in your family, live next door, teach your children, work in the next cubicle or sit in the same church pew.\\nhowever, only half of those affected receive treatment, often because of the stigma attached to mental health. untreated, mental illness can contribute to higher medical expenses, poorer performance at school and work, fewer employment opportunities and increased risk of suicide.\\nwhat exactly is a mental illness\\na mental illness is a physical illness of the brain that causes disturbances in thinking, behavior, energy or emotion that make it difficult to cope with the ordinary demands of life. research is starting to uncover the complicated causes of these diseases which can include genetics, brain chemistry, brain structure, experiencing trauma and/or having another medical condition, like heart disease.\\nthe two most common mental health conditions are:\\nanxiety disorders – more than 18% of adults each year struggle with some type of anxiety disorder, including post-traumatic stress disorder (ptsd), obsessive-compulsive disorder (ocd), panic disorder (panic attacks), generalized anxiety disorder and specific phobias.\\nmood disorders – mood disorders, such as depression and bipolar depression, affect nearly 10% of adults each year and are characterized by difficulties in regulating one’s mood.\\nwhat you can do to help\\nalthough the general perception of mental illness has improved over the past decades, studies show that stigma against mental illness is still powerful, largely due to media stereotypes and lack of education, and that people tend to attach negative stigmas to mental health conditions at a far higher rate than to other diseases and disabilities, such as cancer, diabetes or heart disease.\\nstigma affects not only the number seeking treatment, but also the number of resources available for proper treatment. stigma and misinformation can feel like overwhelming obstacles for someone who is struggling with a mental health condition. here a few powerful things you can do to help:\\n•\\tshowing individuals respect and acceptance removes a significant barrier to successfully coping with their illness. having people see you as an individual and not as your illness can make the biggest difference for someone who is struggling with their mental health.\\n•\\tadvocating within our circles of influence helps ensure these individuals have the same rights and opportunities as other members of your church, school and community.\\n•\\tlearning more about mental health allows us to provide helpful support to those affected in our families and communities.\\nhow can mental health awareness help?\\nmental health awareness is critical to promoting mental health treatment and behavioral health. it’s a necessary and foundational conversation for changing to a more proactive model of mental health.\\n\\nright now, we only fill our tanks when they’re on “empty.” developing our awareness helps us start to recognize the signs and symptoms when we’re feeling “off” — just as we do with physical illness.\\nhere are four important benefits of mental health awareness:\\n1. helps you understand your symptoms\\nsometimes, there is magic in having a diagnosis. despite the stigma around the term, it’s simply a shorthand for a collection of symptoms that occur together.\\n\\nespecially with mental health conditions, which are difficult to pinpoint — and sometimes impossible to find — on a test, a diagnosis can be incredibly validating. it can help people feel less alone and make it easier to find treatment. pay attention to your symptoms. for example, you might feel like your mental health worsens with social media use. \\n \\n2. starts a conversation\\nmental health awareness is an ongoing conversation, but up until recently, it's only been had in whispers. but because a common feature of many moods and anxiety disorders is distorted thinking, talking about it can actually be immensely therapeutic. \\nbuilding a support network and speaking with a licensed mental health professional is critical to alleviating symptoms of many mental health conditions.\\n\\nunfortunately, stigma creates silence. it also makes it difficult to ask for support at work or in other environments that might be made more challenging by a mental health diagnosis.\\n3. better education\\nit's crucial for caregivers, employers, parents, family members, and loved ones to understand the impact that mental health has on daily life. however, while mental health conditions can make daily life more difficult, they also don't have to prevent you from having a fulfilling and engaging life.\\n\\nwhen the people in your life understand and prioritize mental health care, it makes it easier to take the actions you need to do to take care of yourself and thrive.\\n4. promotes mental fitness\\nmany of us have fallen into the trap of thinking of mental health as solely related to mental illness. however, it's possible to have a mental health condition and be mentally fit, and the absence of a mental health condition doesn't necessarily ensure mental fitness.\\n\\nexpanding our understanding of mental health issues and wellness to incorporate mental fitness, a proactive approach to emotional health, well-being, and cognitive agility. it allows us to live life with more purpose, clarity, and passion. reducing the stigma around mental health is an important step to embracing mental fitness. \\n3 tips to promote mental health awareness\\nhow can individual people, especially non-clinicians, make a difference in promoting mental health awareness? a big part of it is learning to talk and share about mental health openly.\\n\\nwhen we are quiet about mental health and fitness, we allow stigma to continue. that silence makes it harder for people to prioritize their own mental well-being.\\nhere are several ideas to promote mental health awareness within your community.\\nspeak up for yourself\\nhow often do you see someone take a mental health day? and how often do you see them being honest about it? many of us feel like our physical well-being is more important than our mental well-being.\\n\\nwe take a day off when we're sick, but not when we're feeling emotionally drained or exhausted. the next time you take time off, be honest with your team that you're taking the time for your mental well-being.\\n\\nwhen you participate in self-advocacy for your mental health, you're empowering others to do the same. you'll likely inspire others to do the same.\\nlearn more about mental health\\ntake the time to learn about mental health and mental fitness. but beyond that, learn how to differentiate the two. learn about common mental health conditions, signs of burnout, and how to take care of yourself when you're experiencing symptoms.\\n\\nit can be helpful to keep an eye on your own warning signs to know when you're starting to get triggered or overwhelmed. if you find resources that may benefit others, share them with those around you.\\ntalk to a coach\\none of my favorite things about working for betterup is that every person here has a coach. whether i'm talking to a manager, a colleague, someone in another department, or an executive, it's common for us to share stories or insights from our coaching sessions.\\n\\nat betterup, we truly have a culture of personal development and mental fitness. it's perfectly acceptable to take time for the inner work® that makes our outer work sustainable and more successful. \\n\\nwhy is mental health awareness so important?\\nmental health isn't just a conversation for people dealing with mental health disorders. it impacts our social, emotional, physical, and cognitive well-being.\\nunfortunately, many people don't receive the treatment that they need because of the stigma associated with mental health. some don't even realize that treatment is available. when these people suffer quietly, they feel lonely and disenfranchised.  we miss out on their brilliance.\\nevery year, suicide is one of the top three causes of death in the united states. and it's been on the rise in recent years. this is true for all economic classes, ethnicities, and genders, although some groups are at a markedly higher risk.\\n\\nevery suicide is a tragedy. death by suicide comes at a high cost. not only does it warrant financial losses it’s, more importantly, devastating for the survivors of the person who died.\\nwe never truly know how our actions impact another person, but if raising awareness can save a life, it is a truly worthwhile endeavor. \\nadditional mental health resources\\nyou don’t have to do it alone. organizations and resources are here (and waiting) to help. lean on the mental health providers below for support — or pass them along to a loved one who might be struggling.\\n•\\tcall the national alliance on mental illness (nami) helpline: 800-950-nami or text “nami” to 741471 \\n•\\tcall the national suicide prevention lifeline: 800-273-8455 or dial 988 \\n•\\tcall the substance abuse and mental health services administration (samhsa): 800-662-help (4537) \\nyou can also find support groups that might help to connect with people living with shared experiences. for example, some support groups specialize in certain conditions like schizophrenia, anxiety, depression, and substance use disorders.\\n\\nas always, consult your doctor or trained mental health professional as well. it’s important to keep your medical team informed of how you’re feeling. your overall health and well-being is critically important.\\n\\n\""
            ],
            "application/vnd.google.colaboratory.intrinsic+json": {
              "type": "string"
            }
          },
          "metadata": {},
          "execution_count": 44
        }
      ]
    },
    {
      "cell_type": "code",
      "source": [
        "sent_tokens = nltk.sent_tokenize(raw)\n",
        "word_tokens = nltk.word_tokenize(raw)"
      ],
      "metadata": {
        "id": "JUIT0DdA6-xS"
      },
      "execution_count": null,
      "outputs": []
    },
    {
      "cell_type": "code",
      "source": [
        "sentToken = sent_tokens[:4]\n",
        "sentToken"
      ],
      "metadata": {
        "colab": {
          "base_uri": "https://localhost:8080/"
        },
        "id": "kOuiI4cb7ua6",
        "outputId": "c0ee262b-54ca-43dc-f665-78618864051e"
      },
      "execution_count": null,
      "outputs": [
        {
          "output_type": "execute_result",
          "data": {
            "text/plain": [
              "['being aware of your overall health is important so that you can detect any symptoms and seek professional help when necessary.',\n",
              " 'while everyone is familiar familiar with the symptoms and treatment options for common illnesses that affect their loved ones, like the flu, migraines, or and (most recently) covid-19, many people are unsure how to look after their mental health.',\n",
              " 'raising mental health awareness can help you to understand your symptoms, find professional treatment, and, perhaps most importantly, break the mental health stigma that leaves so many people suffering in secret.',\n",
              " 'contents\\nwhich conditions need mental health awareness?']"
            ]
          },
          "metadata": {},
          "execution_count": 46
        }
      ]
    },
    {
      "cell_type": "code",
      "source": [
        "wordToken = word_tokens[:4]\n",
        "wordToken"
      ],
      "metadata": {
        "colab": {
          "base_uri": "https://localhost:8080/"
        },
        "id": "_Nqf6TVRATFn",
        "outputId": "42ac21e0-5f10-40b5-e258-ca50d71133f0"
      },
      "execution_count": null,
      "outputs": [
        {
          "output_type": "execute_result",
          "data": {
            "text/plain": [
              "['being', 'aware', 'of', 'your']"
            ]
          },
          "metadata": {},
          "execution_count": 47
        }
      ]
    },
    {
      "cell_type": "code",
      "source": [
        "lemmer = nltk.stem.WordNetLemmatizer()\n",
        "\n",
        "def LemTokens(tokens):\n",
        "  return [lemmer.lemmatize(token) for token in tokens]\n",
        "\n",
        "remove_punct_dict = dict((ord(punct), None) for punct in string.punctuation)\n",
        "\n",
        "def LemNormalize(text):\n",
        "  return LemTokens(nltk.word_tokenize(text.lower().translate(remove_punct_dict)))"
      ],
      "metadata": {
        "id": "jUIlb_INAlFD"
      },
      "execution_count": null,
      "outputs": []
    },
    {
      "cell_type": "code",
      "source": [
        "GREETING_INPUTS = (\"hello\",\"hi\",\"greetings\",\"sup\",\"what's up\",\"hey\")\n",
        "GREETINGS_RESPONSES = [\"hi\",\"hey\",\"hi there\",\"hello\",\"yea babe?\",\"hello dear\"]\n",
        "\n",
        "def greeting(scentence):\n",
        "  for word in scentence.split():\n",
        "    if word.lower() in GREETING_INPUTS:\n",
        "      return random.choice(GREETINGS_RESPONSES)"
      ],
      "metadata": {
        "id": "UjqZta-CEOJS"
      },
      "execution_count": null,
      "outputs": []
    },
    {
      "cell_type": "code",
      "source": [
        "from sklearn.feature_extraction.text import TfidfVectorizer\n",
        "from sklearn.metrics.pairwise import cosine_similarity\n",
        "\n",
        "def response(user_response):\n",
        "  chatbot_response = ''\n",
        "  sent_tokens.append(user_response)\n",
        "  TfidfVec = TfidfVectorizer(tokenizer = LemNormalize, stop_words = \"english\")\n",
        "  tfidf = TfidfVec.fit_transform(sent_tokens)\n",
        "  vals = cosine_similarity(tfidf[-1], tfidf)\n",
        "  idx = vals.argsort()[0][-2]\n",
        "  flat = vals.flatten()\n",
        "  flat.sort()\n",
        "  req_tfidf = flat[-2]\n",
        "  if ( req_tfidf == 0):\n",
        "    chatbot_response = chatbot_response + \"please try again\"\n",
        "    return chatbot_response\n",
        "  else:\n",
        "    chatbot_response + sent_tokens[idx]\n",
        "    return chatbot_response"
      ],
      "metadata": {
        "id": "YLttupHoH46M"
      },
      "execution_count": null,
      "outputs": []
    },
    {
      "cell_type": "code",
      "source": [
        "if __name__ == '__main__':\n",
        "  flag=True\n",
        "print(\"Hi there, my name is Aby. I will answer your queries. Type bye for exit \")\n",
        "while(flag==True):\n",
        "  user_response = input()\n",
        "  user_response = user_response.lower()\n",
        "  if(user_response != 'bye'):\n",
        "    flag = False\n",
        "    print(\"Aby:\"+greeting(user_response))\n",
        "  else:\n",
        "    print(\"Aby:\", end='')\n",
        "    print(response(user_response))\n",
        "    sent_tokens.remove(user_response)\n",
        "  \n",
        "else:\n",
        "  flag=False\n",
        "  print(\"Aby: Bye! Thank you for coming!\")"
      ],
      "metadata": {
        "colab": {
          "base_uri": "https://localhost:8080/"
        },
        "id": "9UCI-d2NKfnp",
        "outputId": "16035ef7-2c81-49ed-89f0-745b05557d06"
      },
      "execution_count": null,
      "outputs": [
        {
          "output_type": "stream",
          "name": "stdout",
          "text": [
            "Hi there, my name is Aby. I will answer your queries. Type bye for exit \n",
            "hi\n",
            "Aby:hi\n",
            "Aby: Bye! Thank you for coming!\n"
          ]
        }
      ]
    }
  ]
}